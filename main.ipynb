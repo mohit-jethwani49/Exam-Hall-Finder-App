{
 "cells": [
  {
   "cell_type": "code",
   "execution_count": 121,
   "metadata": {},
   "outputs": [],
   "source": [
    "from PyPDF2 import PdfReader\n",
    "import os\n",
    "import glob\n"
   ]
  },
  {
   "cell_type": "code",
   "execution_count": 145,
   "metadata": {},
   "outputs": [],
   "source": [
    "roll_no=\"21BCE211\""
   ]
  },
  {
   "cell_type": "code",
   "execution_count": 123,
   "metadata": {},
   "outputs": [],
   "source": [
    "classes=['A-','B-','C-','D-','E-','N-']"
   ]
  },
  {
   "cell_type": "code",
   "execution_count": 124,
   "metadata": {},
   "outputs": [],
   "source": [
    "output=[]"
   ]
  },
  {
   "cell_type": "code",
   "execution_count": 139,
   "metadata": {},
   "outputs": [
    {
     "data": {
      "text/plain": [
       "['/home/nisarg/Desktop/Enmne/Seating Arrangement for B Tech Semester VI-(CH)_Department Elective Courses_17-05-2024 and 18-05-2024.pdf',\n",
       " '/home/nisarg/Desktop/Enmne/Seating Arrangement for B Tech Semester VI-(CSE)_Department Elective Courses_16-05-2024 ,17-05-2024 and 18-05-2024.pdf',\n",
       " '/home/nisarg/Desktop/Enmne/Seating Arrangement for B Tech Semester VI-(EE)_Department Elective Courses_17-05-2024 and 18-05-2024.pdf',\n",
       " '/home/nisarg/Desktop/Enmne/Seating Arrangement for B Tech Semester VI-(CIVIL)_Department Elective Courses_17-05-2024 and 18-05-2024.pdf',\n",
       " '/home/nisarg/Desktop/Enmne/Seating Arrangement for B Tech Semester-VI_15-05-2024 and 16-05-2024_core courses.pdf',\n",
       " '/home/nisarg/Desktop/Enmne/Seating Arrangement for B Tech Semester VI-Open Elective Courses_21-05-2024.pdf',\n",
       " '/home/nisarg/Desktop/Enmne/Seating Arrangement for B Tech Semester VI-Minor Courses_23-05-2024_2.00 pm to 5.00 pm.pdf',\n",
       " '/home/nisarg/Desktop/Enmne/Seating Arrangement for B Tech Semester VI-Minor Courses_23-05-2024_9.15 am to 12.15 pm.pdf',\n",
       " '/home/nisarg/Desktop/Enmne/Seating Arrangement for B Tech Semester VI-(MECH)_Department Elective Courses_17-05-2024 and 18-05-2024.pdf',\n",
       " '/home/nisarg/Desktop/Enmne/Seating Arrangement for B Tech Semester VI-Open Elective Courses_22-05-2024.pdf',\n",
       " '/home/nisarg/Desktop/Enmne/Seating Arrangement for B Tech Semester VI-(EI)_Department Elective Courses_17-05-2024 and 18-05-2024.pdf',\n",
       " '/home/nisarg/Desktop/Enmne/Seating Arrangement for B Tech Semester VI-Open Elective Courses_20-05-2024.pdf',\n",
       " '/home/nisarg/Desktop/Enmne/Seating Arrangement for B Tech Semester VI-(EC)_Department Elective Courses_17-05-2024 and 18-05-2024.pdf']"
      ]
     },
     "execution_count": 139,
     "metadata": {},
     "output_type": "execute_result"
    }
   ],
   "source": [
    "folder_path = '/home/nisarg/Desktop/Enmne'\n",
    "pdf_files = glob.glob(os.path.join(folder_path, '*.pdf'))\n",
    "cnt=0\n",
    "pdf_files"
   ]
  },
  {
   "cell_type": "code",
   "execution_count": 150,
   "metadata": {},
   "outputs": [
    {
     "data": {
      "text/plain": [
       "[['21BCE211', 'D-304']]"
      ]
     },
     "execution_count": 150,
     "metadata": {},
     "output_type": "execute_result"
    }
   ],
   "source": [
    "output.clear()\n",
    "for hehe in pdf_files:\n",
    "    reader = PdfReader(os.path.basename(hehe))\n",
    "    number_of_pages = len(reader.pages)\n",
    "\n",
    "    for nisarg in range(number_of_pages):\n",
    "        page = reader.pages[nisarg]\n",
    "        text = page.extract_text()\n",
    "        # text=extract_text_from_pdf(os.path.basename(hehe))\n",
    "        Time=\"\"\n",
    "        for i in range(text.find(\"Time\"),text.find(\"\\n\",text.find(\"Time\"))):\n",
    "            Time= Time+text[i] \n",
    "        \n",
    "        Date=\"\"\n",
    "        for i in range(text.find(\"Date\"),text.find(\"\\n\",text.find(\"Date\"))):\n",
    "            Date= Date+text[i] \n",
    "        \n",
    "        id_class=[]\n",
    "        id_class.clear()\n",
    "        x=0\n",
    "        while(1):\n",
    "            t=x\n",
    "            for i in range(len(classes)):\n",
    "                if text.find(classes[i],x)!=-1:\n",
    "                    id_class.append(text.find(classes[i],x))\n",
    "                    x=text.find(classes[i],x)\n",
    "                    x=x+1\n",
    "                    break\n",
    "            if t==x:\n",
    "                break\n",
    "        \n",
    "        id_student=text.find(roll_no)\n",
    "        if id_student!=-1:\n",
    "\n",
    "            t=len(id_class)-1\n",
    "\n",
    "            for i in range(len(id_class)):\n",
    "                if id_class[i]>id_student:\n",
    "                    t=i\n",
    "                    t=t-1\n",
    "                    break\n",
    "\n",
    "            class_name=text[id_class[t]:text.find(\" \",id_class[t])]\n",
    "\n",
    "            output.append([roll_no,class_name])\n",
    "\n",
    "output"
   ]
  },
  {
   "cell_type": "code",
   "execution_count": null,
   "metadata": {},
   "outputs": [],
   "source": [
    "roll_no=\"22BCH502\""
   ]
  },
  {
   "cell_type": "code",
   "execution_count": null,
   "metadata": {},
   "outputs": [
    {
     "data": {
      "text/plain": [
       "'Time : 1.15 pm to 3.15 pm'"
      ]
     },
     "execution_count": 95,
     "metadata": {},
     "output_type": "execute_result"
    }
   ],
   "source": [
    "Time=\"\"\n",
    "for i in range(text.find(\"Time\"),text.find(\"\\n\",text.find(\"Time\"))):\n",
    "   Time= Time+text[i] \n",
    "Time"
   ]
  },
  {
   "cell_type": "code",
   "execution_count": null,
   "metadata": {},
   "outputs": [
    {
     "data": {
      "text/plain": [
       "'Date : 10/04/2024'"
      ]
     },
     "execution_count": 96,
     "metadata": {},
     "output_type": "execute_result"
    }
   ],
   "source": [
    "Date=\"\"\n",
    "for i in range(text.find(\"Date\"),text.find(\"\\n\",text.find(\"Date\"))):\n",
    "   Date= Date+text[i] \n",
    "Date"
   ]
  },
  {
   "cell_type": "code",
   "execution_count": null,
   "metadata": {},
   "outputs": [
    {
     "data": {
      "text/plain": [
       "1887"
      ]
     },
     "execution_count": 97,
     "metadata": {},
     "output_type": "execute_result"
    }
   ],
   "source": [
    "text.find(roll_no)"
   ]
  },
  {
   "cell_type": "code",
   "execution_count": null,
   "metadata": {},
   "outputs": [],
   "source": [
    "classes=['A-','B-','C-','D-','E-','N-']"
   ]
  },
  {
   "cell_type": "code",
   "execution_count": null,
   "metadata": {},
   "outputs": [],
   "source": []
  },
  {
   "cell_type": "code",
   "execution_count": null,
   "metadata": {},
   "outputs": [],
   "source": [
    "id_class=[]\n",
    "id_class.clear()\n",
    "x=0\n",
    "while(1):\n",
    "    t=x\n",
    "    for i in range(len(classes)):\n",
    "        if text.find(classes[i],x)!=-1:\n",
    "            id_class.append(text.find(classes[i],x))\n",
    "            x=text.find(classes[i],x)\n",
    "            x=x+1\n",
    "            break\n",
    "    if t==x:\n",
    "        break\n",
    "    \n",
    "# id_class.append(1e9)"
   ]
  },
  {
   "cell_type": "code",
   "execution_count": null,
   "metadata": {},
   "outputs": [
    {
     "data": {
      "text/plain": [
       "'N-104'"
      ]
     },
     "execution_count": 109,
     "metadata": {},
     "output_type": "execute_result"
    }
   ],
   "source": [
    "id_student=text.find(roll_no)\n",
    "\n",
    "t=len(id_class)-1\n",
    "\n",
    "for i in range(len(id_class)):\n",
    "    if id_class[i]>id_student:\n",
    "        t=i\n",
    "        t=t-1\n",
    "        break\n",
    "\n",
    "class_name=text[id_class[t]:text.find(\" \",id_class[t])]\n",
    "class_name"
   ]
  },
  {
   "cell_type": "code",
   "execution_count": null,
   "metadata": {},
   "outputs": [],
   "source": []
  }
 ],
 "metadata": {
  "kernelspec": {
   "display_name": "Python 3",
   "language": "python",
   "name": "python3"
  },
  "language_info": {
   "codemirror_mode": {
    "name": "ipython",
    "version": 3
   },
   "file_extension": ".py",
   "mimetype": "text/x-python",
   "name": "python",
   "nbconvert_exporter": "python",
   "pygments_lexer": "ipython3",
   "version": "3.10.12"
  }
 },
 "nbformat": 4,
 "nbformat_minor": 2
}
