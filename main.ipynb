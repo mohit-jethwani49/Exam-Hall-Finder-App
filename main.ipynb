{
 "cells": [
  {
   "cell_type": "code",
   "execution_count": 1,
   "metadata": {},
   "outputs": [],
   "source": [
    "from PyPDF2 import PdfReader\n",
    "import os\n",
    "import glob"
   ]
  },
  {
   "cell_type": "code",
   "execution_count": 36,
   "metadata": {},
   "outputs": [],
   "source": [
    "roll_no=\"21BCE196\""
   ]
  },
  {
   "cell_type": "code",
   "execution_count": 7,
   "metadata": {},
   "outputs": [],
   "source": [
    "classes=['A-','B-','C-','D-','E-','N-']"
   ]
  },
  {
   "cell_type": "code",
   "execution_count": 8,
   "metadata": {},
   "outputs": [],
   "source": [
    "output=[]"
   ]
  },
  {
   "cell_type": "code",
   "execution_count": 38,
   "metadata": {},
   "outputs": [
    {
     "data": {
      "text/plain": [
       "['/home/nisarg/Desktop/Enmne/ocr/Seating Arrangement for B Tech Semester VI-(CH)_Department Elective Courses_17-05-2024 and 18-05-2024.pdf',\n",
       " '/home/nisarg/Desktop/Enmne/ocr/Seating Arrangement for B Tech Semester VI-(CSE)_Department Elective Courses_16-05-2024 ,17-05-2024 and 18-05-2024.pdf',\n",
       " '/home/nisarg/Desktop/Enmne/ocr/Seating Arrangement for B Tech Semester VI-(EE)_Department Elective Courses_17-05-2024 and 18-05-2024.pdf',\n",
       " '/home/nisarg/Desktop/Enmne/ocr/Seating Arrangement for B Tech Semester VI-(CIVIL)_Department Elective Courses_17-05-2024 and 18-05-2024.pdf',\n",
       " '/home/nisarg/Desktop/Enmne/ocr/Seating Arrangement for B Tech Semester-VI_15-05-2024 and 16-05-2024_core courses.pdf',\n",
       " '/home/nisarg/Desktop/Enmne/ocr/Seating Arrangement for B Tech Semester VI-Open Elective Courses_21-05-2024.pdf',\n",
       " '/home/nisarg/Desktop/Enmne/ocr/Seating Arrangement for B Tech Semester VI-Minor Courses_23-05-2024_2.00 pm to 5.00 pm.pdf',\n",
       " '/home/nisarg/Desktop/Enmne/ocr/Seating Arrangement for B Tech Semester VI-Minor Courses_23-05-2024_9.15 am to 12.15 pm.pdf',\n",
       " '/home/nisarg/Desktop/Enmne/ocr/Seating Arrangement for B Tech Semester VI-(MECH)_Department Elective Courses_17-05-2024 and 18-05-2024.pdf',\n",
       " '/home/nisarg/Desktop/Enmne/ocr/Seating Arrangement for B Tech Semester VI-Open Elective Courses_22-05-2024.pdf',\n",
       " '/home/nisarg/Desktop/Enmne/ocr/Seating Arrangement for B Tech Semester VI-(EI)_Department Elective Courses_17-05-2024 and 18-05-2024.pdf',\n",
       " '/home/nisarg/Desktop/Enmne/ocr/Seating Arrangement for B Tech Semester VI-Open Elective Courses_20-05-2024.pdf',\n",
       " '/home/nisarg/Desktop/Enmne/ocr/Seating Arrangement for B Tech Semester VI-(EC)_Department Elective Courses_17-05-2024 and 18-05-2024.pdf']"
      ]
     },
     "execution_count": 38,
     "metadata": {},
     "output_type": "execute_result"
    }
   ],
   "source": [
    "folder_path = '/home/nisarg/Desktop/Enmne/ocr'\n",
    "pdf_files = glob.glob(os.path.join(folder_path, '*.pdf'))\n",
    "cnt=0\n",
    "pdf_files"
   ]
  },
  {
   "cell_type": "code",
   "execution_count": 39,
   "metadata": {},
   "outputs": [],
   "source": [
    "def find_third_occurrence(lst, element):\n",
    "    occurrence_count = 0\n",
    "    \n",
    "    for index, item in enumerate(lst):\n",
    "        if item == element:\n",
    "            occurrence_count += 1\n",
    "            if occurrence_count == 3:\n",
    "                return index\n",
    "    \n",
    "    return -1"
   ]
  },
  {
   "cell_type": "code",
   "execution_count": 40,
   "metadata": {},
   "outputs": [],
   "source": [
    "def find_last_occurrence(s, substring):\n",
    "    last_index = -1\n",
    "    index = 0\n",
    "    \n",
    "    while True:\n",
    "        index = s.find(substring, index)\n",
    "        if index == -1:\n",
    "            return last_index\n",
    "        last_index = index\n",
    "        index += 1"
   ]
  },
  {
   "cell_type": "code",
   "execution_count": 41,
   "metadata": {},
   "outputs": [
    {
     "data": {
      "text/plain": [
       "[['21BCE196', 'D-309', 'Date : 16/05/2024', 'Time : 9.15 am to 12.15 pm'],\n",
       " ['21BCE196', 'D-303', 'Date : 17/05/2024', 'Time : 9.15 am to 12.15 pm'],\n",
       " ['21BCE196', 'D-302', 'Date : 18/05/2024', 'Time : 9.15 am to 12.15 pm'],\n",
       " ['21BCE196',\n",
       "  'D-303',\n",
       "  'Date : 15-05-2024 & 16-05-2024',\n",
       "  'Time : 9.15 am to 12.15 pm'],\n",
       " ['21BCE196', 'N-301', 'Date : 21/05/2024', 'Time : 9.15 am to 12.15 pm'],\n",
       " ['21BCE196', 'N-308', 'Date : 22/05/2024', 'Time : 9.15 am to 12.15 pm']]"
      ]
     },
     "execution_count": 41,
     "metadata": {},
     "output_type": "execute_result"
    }
   ],
   "source": [
    "output.clear()\n",
    "for hehe in pdf_files:\n",
    "    reader = PdfReader(os.path.basename(hehe))\n",
    "    number_of_pages = len(reader.pages)\n",
    "\n",
    "    for nisarg in range(number_of_pages):\n",
    "        page = reader.pages[nisarg]\n",
    "        text = page.extract_text()\n",
    "        Time=\"\"\n",
    "        for i in range(text.find(\"Time\"),text.find(\"\\n\",text.find(\"Time\"))):\n",
    "            Time= Time+text[i] \n",
    "        \n",
    "        Date=\"\"\n",
    "        for i in range(text.find(\"Date\"),text.find(\"T\",text.find(\"Date\"))):\n",
    "            Date= Date+text[i] \n",
    "        \n",
    "        id_class=[]\n",
    "        id_class.clear()\n",
    "        x=0\n",
    "        while(1):\n",
    "            t=x\n",
    "            for i in range(len(classes)):\n",
    "                if text.find(classes[i],x)!=-1:\n",
    "                    id_class.append(text.find(classes[i],x))\n",
    "                    x=text.find(classes[i],x)\n",
    "                    x=x+1\n",
    "                    break\n",
    "            if t==x:\n",
    "                break\n",
    "        \n",
    "        initial=0\n",
    "        while(1):\n",
    "\n",
    "            id_student=text.find(roll_no,initial)\n",
    "            initial=id_student+1\n",
    "            if id_student!=-1:\n",
    "\n",
    "                t=len(id_class)-1\n",
    "\n",
    "                for i in range(len(id_class)):\n",
    "                    if id_class[i]>id_student:\n",
    "                        t=i\n",
    "                        t=t-1\n",
    "                        break\n",
    "\n",
    "                class_name=text[id_class[t]:text.find(\" \",id_class[t])]\n",
    "\n",
    "                output.append([roll_no,class_name[0:5],Date[0:find_last_occurrence(Date,'202')+4],Time[0:(find_third_occurrence(Time,\"m\")+1)]])\n",
    "            else:\n",
    "                break\n",
    "\n",
    "output"
   ]
  }
 ],
 "metadata": {
  "kernelspec": {
   "display_name": "Python 3",
   "language": "python",
   "name": "python3"
  },
  "language_info": {
   "codemirror_mode": {
    "name": "ipython",
    "version": 3
   },
   "file_extension": ".py",
   "mimetype": "text/x-python",
   "name": "python",
   "nbconvert_exporter": "python",
   "pygments_lexer": "ipython3",
   "version": "3.10.12"
  }
 },
 "nbformat": 4,
 "nbformat_minor": 2
}
